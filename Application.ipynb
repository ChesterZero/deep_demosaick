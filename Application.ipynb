{
 "cells": [
  {
   "cell_type": "code",
   "execution_count": 1,
   "metadata": {},
   "outputs": [],
   "source": [
    "import skimage as sk\n",
    "from skimage import io, util\n",
    "import numpy as np\n",
    "import matplotlib.pyplot as plt\n",
    "%matplotlib inline\n",
    "\n",
    "import torch\n",
    "import torch.nn as nn\n",
    "import math, sys, os\n",
    "from residual_model_resdnet import *\n",
    "from MMNet_TBPTT import *\n",
    "import glob\n",
    "from subprocess import call\n",
    "from tqdm import *"
   ]
  },
  {
   "cell_type": "code",
   "execution_count": 2,
   "metadata": {},
   "outputs": [],
   "source": [
    "def rescale_to_255f(img):\n",
    "    dtype = img.dtype\n",
    "    if dtype == np.uint16:\n",
    "        img = img / 2**16 * 2**8\n",
    "    elif dtype == np.uint8:\n",
    "        img = img.astype(np.float32)\n",
    "    return img"
   ]
  },
  {
   "cell_type": "markdown",
   "metadata": {},
   "source": [
    "# Define HyperParameters"
   ]
  },
  {
   "cell_type": "code",
   "execution_count": 3,
   "metadata": {},
   "outputs": [],
   "source": [
    "args_noise_estimation = True # wheter to estimate noise or not\n",
    "args_init = True # wheter to initialize the input with bilinear\n",
    "args_max_iter = 20 # maximum number of iterations\n",
    "args_use_gpu = True \n",
    "block_size = (128, 128)\n",
    "args_model = 'results_experimentation/msr_bilinear_noisy_iter20_bugfix_2ndrun/' # model path"
   ]
  },
  {
   "cell_type": "markdown",
   "metadata": {},
   "source": [
    "# Load Model"
   ]
  },
  {
   "cell_type": "code",
   "execution_count": 4,
   "metadata": {},
   "outputs": [],
   "source": [
    "model_params = torch.load(args_model+'model_best.pth')\n",
    "\n",
    "model = ResNet_Den(BasicBlock, model_params[2], weightnorm=True)\n",
    "mmnet = MMNet(model, max_iter=model_params[1])\n",
    "for param in mmnet.parameters():\n",
    "    param.requires_grad = False\n",
    "\n",
    "mmnet.load_state_dict(model_params[0])\n",
    "if args_use_gpu:\n",
    "    mmnet = mmnet.cuda()"
   ]
  },
  {
   "cell_type": "markdown",
   "metadata": {},
   "source": [
    "# Process Images"
   ]
  },
  {
   "cell_type": "code",
   "execution_count": null,
   "metadata": {},
   "outputs": [
    {
     "name": "stderr",
     "output_type": "stream",
     "text": [
      "\r",
      "  0%|          | 0/57 [00:00<?, ?it/s]"
     ]
    },
    {
     "name": "stdout",
     "output_type": "stream",
     "text": [
      "Processing  real_images_new/r3092a7e7t.NEF\n"
     ]
    },
    {
     "name": "stderr",
     "output_type": "stream",
     "text": [
      "\r",
      "  2%|▏         | 1/57 [00:48<45:31, 48.77s/it]"
     ]
    },
    {
     "name": "stdout",
     "output_type": "stream",
     "text": [
      "Processing  real_images_new/r3378d41et.NEF\n"
     ]
    },
    {
     "name": "stderr",
     "output_type": "stream",
     "text": [
      "\r",
      "  4%|▎         | 2/57 [01:51<51:09, 55.81s/it]"
     ]
    },
    {
     "name": "stdout",
     "output_type": "stream",
     "text": [
      "Processing  real_images_new/r3201c080t.NEF\n"
     ]
    },
    {
     "name": "stderr",
     "output_type": "stream",
     "text": [
      "\r",
      "  5%|▌         | 3/57 [02:54<52:18, 58.13s/it]"
     ]
    },
    {
     "name": "stdout",
     "output_type": "stream",
     "text": [
      "Processing  real_images_new/r3647a976t.NEF\n"
     ]
    },
    {
     "name": "stderr",
     "output_type": "stream",
     "text": [
      "\r",
      "  7%|▋         | 4/57 [03:43<49:15, 55.76s/it]"
     ]
    },
    {
     "name": "stdout",
     "output_type": "stream",
     "text": [
      "Processing  real_images_new/r3639e3f4t.NEF\n"
     ]
    },
    {
     "name": "stderr",
     "output_type": "stream",
     "text": [
      "\r",
      "  9%|▉         | 5/57 [04:31<47:07, 54.38s/it]"
     ]
    },
    {
     "name": "stdout",
     "output_type": "stream",
     "text": [
      "Processing  real_images_new/r3206d2cdt.NEF\n"
     ]
    },
    {
     "name": "stderr",
     "output_type": "stream",
     "text": [
      "\r",
      " 11%|█         | 6/57 [05:35<47:27, 55.84s/it]"
     ]
    },
    {
     "name": "stdout",
     "output_type": "stream",
     "text": [
      "Processing  real_images_new/r3910a007t.NEF\n"
     ]
    },
    {
     "name": "stderr",
     "output_type": "stream",
     "text": [
      "\r",
      " 12%|█▏        | 7/57 [06:38<47:25, 56.92s/it]"
     ]
    },
    {
     "name": "stdout",
     "output_type": "stream",
     "text": [
      "Processing  real_images_new/r3644d097t.NEF\n"
     ]
    },
    {
     "name": "stderr",
     "output_type": "stream",
     "text": [
      "\r",
      " 14%|█▍        | 8/57 [07:41<47:05, 57.66s/it]"
     ]
    },
    {
     "name": "stdout",
     "output_type": "stream",
     "text": [
      "Processing  real_images_new/r3333cbf6t.NEF\n"
     ]
    },
    {
     "name": "stderr",
     "output_type": "stream",
     "text": [
      "\r",
      " 16%|█▌        | 9/57 [08:29<45:18, 56.64s/it]"
     ]
    },
    {
     "name": "stdout",
     "output_type": "stream",
     "text": [
      "Processing  real_images_new/r3335cb09t.NEF\n"
     ]
    },
    {
     "name": "stderr",
     "output_type": "stream",
     "text": [
      "\r",
      " 18%|█▊        | 10/57 [09:32<44:52, 57.29s/it]"
     ]
    },
    {
     "name": "stdout",
     "output_type": "stream",
     "text": [
      "Processing  real_images_new/r3463f166t.NEF\n"
     ]
    },
    {
     "name": "stderr",
     "output_type": "stream",
     "text": [
      "\r",
      " 19%|█▉        | 11/57 [10:36<44:19, 57.82s/it]"
     ]
    },
    {
     "name": "stdout",
     "output_type": "stream",
     "text": [
      "Processing  real_images_new/r3972e5dbt.NEF\n"
     ]
    },
    {
     "name": "stderr",
     "output_type": "stream",
     "text": [
      "\r",
      " 21%|██        | 12/57 [11:39<43:41, 58.25s/it]"
     ]
    },
    {
     "name": "stdout",
     "output_type": "stream",
     "text": [
      "Processing  real_images_new/r3724e50ct.NEF\n"
     ]
    },
    {
     "name": "stderr",
     "output_type": "stream",
     "text": [
      "\r",
      " 23%|██▎       | 13/57 [12:41<42:58, 58.61s/it]"
     ]
    },
    {
     "name": "stdout",
     "output_type": "stream",
     "text": [
      "Processing  real_images_new/r3602d116t.NEF\n"
     ]
    },
    {
     "name": "stderr",
     "output_type": "stream",
     "text": [
      "\r",
      " 25%|██▍       | 14/57 [13:44<42:13, 58.92s/it]"
     ]
    },
    {
     "name": "stdout",
     "output_type": "stream",
     "text": [
      "Processing  real_images_new/r3197ab81t.NEF\n"
     ]
    },
    {
     "name": "stderr",
     "output_type": "stream",
     "text": [
      "\r",
      " 26%|██▋       | 15/57 [14:33<40:45, 58.24s/it]"
     ]
    },
    {
     "name": "stdout",
     "output_type": "stream",
     "text": [
      "Processing  real_images_new/r3615b30dt.NEF\n"
     ]
    }
   ],
   "source": [
    "# Define folder with RAW images\n",
    "img_folder = 'real_images_new/'\n",
    "filepaths_img = glob.glob(img_folder+'*')\n",
    "\n",
    "for img_path in tqdm(filepaths_img):\n",
    "    try:\n",
    "        print('Processing ', img_path)\n",
    "        call([\"dcraw\",\"-d\",\"-T\",\"-6\",\"-W\",img_path])\n",
    "        img_path = img_path.split(\".\")\n",
    "        img_path[-1] = '.tiff'\n",
    "        img = io.imread(\"\".join(img_path))\n",
    "        res = rescale_to_255f(img)\n",
    "        if res.shape[0] % block_size[0] != 0:\n",
    "            mod = block_size[0]- res.shape[0] % block_size[0]\n",
    "            res = np.pad(res, ((0,mod),(0,0)), 'constant')\n",
    "\n",
    "        if res.shape[1] % block_size[1] != 0:\n",
    "            mod = block_size[1]- res.shape[1] % block_size[1]\n",
    "            res = np.pad(res, ((0,0), (0,mod)), 'constant')\n",
    "        blocks = util.view_as_blocks(res, block_shape=(128, 128))\n",
    "\n",
    "        def process_patch(patch):\n",
    "            with torch.no_grad():\n",
    "                mmnet.eval()\n",
    "                mosaic = torch.FloatTensor(patch).float()[None]\n",
    "                r_mask = np.zeros(patch.shape)\n",
    "                r_mask[0::2, 0::2] = 1\n",
    "\n",
    "                g_mask = np.zeros(patch.shape)\n",
    "                g_mask[::2, 1::2] = 1\n",
    "                g_mask[1::2, ::2] = 1\n",
    "\n",
    "                b_mask = np.zeros(patch.shape)\n",
    "                b_mask[1::2, 1::2] = 1\n",
    "                mask = np.zeros(patch.shape +(3,))\n",
    "                mask[:, :, 0] = r_mask\n",
    "                mask[:, :, 1] = g_mask\n",
    "                mask[:, :, 2] = b_mask\n",
    "                M = torch.FloatTensor(mask)[None]\n",
    "                mosaic = mosaic[...,None]*M\n",
    "                mosaic = mosaic.permute(0,3,1,2)\n",
    "                M = M.permute(0,3,1,2)\n",
    "\n",
    "                p = Demosaic(mosaic.float(), M.float())\n",
    "                if args_use_gpu:\n",
    "                    p.cuda_()\n",
    "\n",
    "                xcur = mmnet.forward_all_iter(p, max_iter=args_max_iter, init=args_init, noise_estimation=args_noise_estimation)\n",
    "                return xcur[0].cpu().data.permute(1,2,0).numpy()\n",
    "\n",
    "        block_size = blocks.shape[-2:]\n",
    "        num_blocks = blocks.shape[:2]\n",
    "        original_size = (blocks.shape[0] * blocks.shape[2], blocks.shape[1] * blocks.shape[3])\n",
    "        final_img = np.zeros((original_size[0], original_size[1],3), dtype=np.float32)\n",
    "        for i in range(num_blocks[0]):\n",
    "            for j in range(num_blocks[1]):\n",
    "                patch_result = process_patch(blocks[i,j])\n",
    "                final_img[i*block_size[0]:(i+1)*block_size[0], j*block_size[1]:(j+1)*block_size[1]] = patch_result\n",
    "        final_img = final_img.astype(np.uint8)\n",
    "        final_img = final_img[:img.shape[0],:img.shape[1]]\n",
    "        call([\"rm\",\"\".join(img_path)])\n",
    "        img_path[-1] = '.jpeg'\n",
    "        io.imsave(\"\".join(img_path),final_img)\n",
    "    except e as Exception:\n",
    "        print(e)\n",
    "plt.imshow(img)"
   ]
  }
 ],
 "metadata": {
  "kernelspec": {
   "display_name": "Python 3",
   "language": "python",
   "name": "python3"
  },
  "language_info": {
   "codemirror_mode": {
    "name": "ipython",
    "version": 3
   },
   "file_extension": ".py",
   "mimetype": "text/x-python",
   "name": "python",
   "nbconvert_exporter": "python",
   "pygments_lexer": "ipython3",
   "version": "3.6.4"
  }
 },
 "nbformat": 4,
 "nbformat_minor": 2
}
